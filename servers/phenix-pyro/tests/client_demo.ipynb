{
 "cells": [
  {
   "cell_type": "code",
   "execution_count": 1,
   "metadata": {},
   "outputs": [],
   "source": [
    "import sys\n",
    "\n",
    "if sys.version_info.major == 2:\n",
    "  import Pyro4\n",
    "  import Pyro4.naming\n",
    "\n",
    "  from pathlib2 import Path\n",
    "else:\n",
    "  import Pyro5\n",
    "  import Pyro5.client\n",
    "  import Pyro5.api\n",
    "  from pathlib import Path\n",
    "\n",
    "sys.path.append(\"/home/user/Software/phenix/modules/phenix/phenix/api/\")\n",
    "from api_objects import ModelAPI, MapAPI, SceneAPI\n",
    "\n",
    "\n",
    "from iotbx.data_manager import DataManager\n",
    "from mmtbx.model.model import manager as model_manager\n",
    "from iotbx.map_manager import map_manager\n",
    "from iotbx.map_model_manager import map_model_manager"
   ]
  },
  {
   "cell_type": "code",
   "execution_count": 2,
   "metadata": {},
   "outputs": [],
   "source": [
    "# load an example model\n",
    "dm = DataManager()\n",
    "filepath = Path(\"1aba_pieces.pdb\")\n",
    "name = filepath.stem\n",
    "dm.process_model_file(str(filepath))\n",
    "model = dm.get_model()"
   ]
  },
  {
   "cell_type": "code",
   "execution_count": 3,
   "metadata": {},
   "outputs": [],
   "source": [
    "# initialize the api object\n",
    "model_api = ModelAPI(model)"
   ]
  },
  {
   "cell_type": "code",
   "execution_count": 4,
   "metadata": {},
   "outputs": [],
   "source": [
    "from pyro_manager import PyroManager"
   ]
  },
  {
   "cell_type": "code",
   "execution_count": 5,
   "metadata": {},
   "outputs": [],
   "source": [
    "server, service_name, service_uri, failed = PyroManager.find_server()"
   ]
  },
  {
   "cell_type": "code",
   "execution_count": 6,
   "metadata": {},
   "outputs": [],
   "source": [
    "server.add_data(model_api.payload)"
   ]
  },
  {
   "cell_type": "code",
   "execution_count": 7,
   "metadata": {},
   "outputs": [
    {
     "data": {
      "text/plain": [
       "True"
      ]
     },
     "execution_count": 7,
     "metadata": {},
     "output_type": "execute_result"
    }
   ],
   "source": [
    "server.has_data()"
   ]
  },
  {
   "cell_type": "code",
   "execution_count": 8,
   "metadata": {},
   "outputs": [],
   "source": [
    "# add a scene\n",
    "scene_api = SceneAPI.from_api_objects(model_api)"
   ]
  },
  {
   "cell_type": "code",
   "execution_count": 9,
   "metadata": {},
   "outputs": [],
   "source": [
    "server.add_scene(scene_api.payload,set_current=True)"
   ]
  },
  {
   "cell_type": "code",
   "execution_count": null,
   "metadata": {},
   "outputs": [],
   "source": []
  }
 ],
 "metadata": {
  "kernelspec": {
   "display_name": "phenix",
   "language": "python",
   "name": "phenix"
  },
  "language_info": {
   "codemirror_mode": {
    "name": "ipython",
    "version": 2
   },
   "file_extension": ".py",
   "mimetype": "text/x-python",
   "name": "python",
   "nbconvert_exporter": "python",
   "pygments_lexer": "ipython2",
   "version": "2.7.15"
  }
 },
 "nbformat": 4,
 "nbformat_minor": 4
}
