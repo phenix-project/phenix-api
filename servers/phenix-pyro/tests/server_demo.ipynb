{
 "cells": [
  {
   "cell_type": "code",
   "execution_count": 1,
   "metadata": {},
   "outputs": [],
   "source": [
    "import sys\n",
    "sys.path.append(\"../\")\n",
    "from phenix_server import PhenixServer\n",
    "from pyro_manager import PyroManager"
   ]
  },
  {
   "cell_type": "code",
   "execution_count": 2,
   "metadata": {},
   "outputs": [
    {
     "name": "stdout",
     "output_type": "stream",
     "text": [
      "Not starting broadcast server for localhost.\n",
      "NS running on localhost:9090 (127.0.0.1)\n",
      "Warning: HMAC key not set. Anyone can connect to this server!\n",
      "URI = PYRO:Pyro.NameServer@localhost:9090\n"
     ]
    }
   ],
   "source": [
    "# initialize the pyro manager and one server instance\n",
    "pyro_manager = PyroManager()\n",
    "phenix_server = PhenixServer()"
   ]
  },
  {
   "cell_type": "code",
   "execution_count": 3,
   "metadata": {},
   "outputs": [
    {
     "data": {
      "text/plain": [
       "True"
      ]
     },
     "execution_count": 3,
     "metadata": {},
     "output_type": "execute_result"
    }
   ],
   "source": [
    "pyro_manager.ns_visible()"
   ]
  },
  {
   "cell_type": "code",
   "execution_count": 4,
   "metadata": {},
   "outputs": [
    {
     "name": "stdout",
     "output_type": "stream",
     "text": [
      "PYRO:obj_5e69855c054f4fb28bf5507c3e48b794@localhost:42271\n"
     ]
    }
   ],
   "source": [
    "# register the server to make it available remotely\n",
    "prefix = \"phenix.server.\"+phenix_server.id\n",
    "uri = pyro_manager.register_service(phenix_server,prefix=prefix)\n",
    "print(str(uri))"
   ]
  },
  {
   "cell_type": "code",
   "execution_count": 5,
   "metadata": {},
   "outputs": [],
   "source": [
    "# optionally, start chimerax and connect to server (assumes the bundle is installed)\n",
    "import subprocess\n",
    "cmds = [\"chimerax\",\"--cmd\",\"phenix connect uri \"+str(uri)]\n",
    "p = subprocess.Popen(cmds)"
   ]
  },
  {
   "cell_type": "code",
   "execution_count": 9,
   "metadata": {},
   "outputs": [],
   "source": []
  },
  {
   "cell_type": "code",
   "execution_count": 22,
   "metadata": {},
   "outputs": [],
   "source": [
    "import Pyro4"
   ]
  },
  {
   "cell_type": "code",
   "execution_count": 20,
   "metadata": {},
   "outputs": [
    {
     "data": {
      "text/plain": [
       "'Pyro5.core'"
      ]
     },
     "execution_count": 20,
     "metadata": {},
     "output_type": "execute_result"
    }
   ],
   "source": []
  },
  {
   "cell_type": "code",
   "execution_count": 24,
   "metadata": {},
   "outputs": [],
   "source": []
  },
  {
   "cell_type": "code",
   "execution_count": 25,
   "metadata": {},
   "outputs": [
    {
     "data": {
      "text/plain": [
       "5"
      ]
     },
     "execution_count": 25,
     "metadata": {},
     "output_type": "execute_result"
    }
   ],
   "source": [
    "PYRO_VERSION"
   ]
  },
  {
   "cell_type": "code",
   "execution_count": 6,
   "metadata": {},
   "outputs": [],
   "source": [
    "# tests\n",
    "service, service_name, service_uri, failed = find_server(prefix=\"phenix\",uri=str(uri),return_index=None,try_most_recent=True)\n",
    "assert not failed\n",
    "service, service_name, service_uri, failed = find_server(prefix=\"phenix\",uri=None,return_index=None,try_most_recent=True)\n",
    "assert not failed\n",
    "service, service_name, service_uri, failed = find_server(prefix=\"phenix\",uri=None,return_index=-1,try_most_recent=False)\n",
    "assert not failed\n",
    "service, service_name, service_uri, failed = find_server(prefix=\"phenix\",uri=None,return_index=None,try_most_recent=False)\n",
    "assert not failed"
   ]
  },
  {
   "cell_type": "code",
   "execution_count": null,
   "metadata": {},
   "outputs": [],
   "source": []
  }
 ],
 "metadata": {
  "kernelspec": {
   "display_name": "phenix",
   "language": "python",
   "name": "phenix"
  },
  "language_info": {
   "codemirror_mode": {
    "name": "ipython",
    "version": 2
   },
   "file_extension": ".py",
   "mimetype": "text/x-python",
   "name": "python",
   "nbconvert_exporter": "python",
   "pygments_lexer": "ipython2",
   "version": "2.7.15"
  }
 },
 "nbformat": 4,
 "nbformat_minor": 4
}
