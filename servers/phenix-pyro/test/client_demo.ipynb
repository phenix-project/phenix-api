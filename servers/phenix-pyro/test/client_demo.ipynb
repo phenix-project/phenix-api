{
 "cells": [
  {
   "cell_type": "code",
   "execution_count": 1,
   "metadata": {},
   "outputs": [],
   "source": [
    "import sys\n",
    "\n",
    "if sys.version_info.major == 2:\n",
    "  import Pyro4\n",
    "  import Pyro4.naming\n",
    "\n",
    "  from pathlib2 import Path\n",
    "else:\n",
    "  import Pyro5\n",
    "  import Pyro5.client\n",
    "  import Pyro5.api\n",
    "  from pathlib import Path\n",
    "\n",
    "sys.path.append(\"../\")\n",
    "from api_objects import ModelAPI, MapAPI, SceneAPI\n",
    "\n",
    "\n",
    "from iotbx.data_manager import DataManager\n",
    "from mmtbx.model.model import manager as model_manager\n",
    "from iotbx.map_manager import map_manager\n",
    "from iotbx.map_model_manager import map_model_manager"
   ]
  },
  {
   "cell_type": "code",
   "execution_count": 2,
   "metadata": {},
   "outputs": [],
   "source": [
    "# load an example model\n",
    "dm = DataManager()\n",
    "filepath = Path(\"1aba_pieces.pdb\")\n",
    "name = filepath.stem\n",
    "dm.process_model_file(str(filepath))\n",
    "model = dm.get_model()"
   ]
  },
  {
   "cell_type": "code",
   "execution_count": 3,
   "metadata": {},
   "outputs": [],
   "source": [
    "# initialize the api object\n",
    "model_api = ModelAPI(model)"
   ]
  },
  {
   "cell_type": "code",
   "execution_count": 4,
   "metadata": {},
   "outputs": [],
   "source": [
    "def find_server(uri):\n",
    "    if sys.version_info.major==2:\n",
    "      server = Pyro4.Proxy(uri)\n",
    "    else:\n",
    "      server = Pyro5.api.Proxy(uri)\n",
    "    return server\n"
   ]
  },
  {
   "cell_type": "code",
   "execution_count": 6,
   "metadata": {},
   "outputs": [],
   "source": [
    "server = find_server(\"PYRO:obj_09b4297bb1074b878c2d743cbfbe0287@localhost:36695\") # copy/pasted from server demo"
   ]
  },
  {
   "cell_type": "code",
   "execution_count": 7,
   "metadata": {},
   "outputs": [],
   "source": [
    "server.add_data(model_api.payload)"
   ]
  },
  {
   "cell_type": "code",
   "execution_count": 8,
   "metadata": {},
   "outputs": [
    {
     "data": {
      "text/plain": [
       "True"
      ]
     },
     "execution_count": 8,
     "metadata": {},
     "output_type": "execute_result"
    }
   ],
   "source": [
    "server.has_data()"
   ]
  },
  {
   "cell_type": "code",
   "execution_count": 9,
   "metadata": {},
   "outputs": [
    {
     "data": {
      "text/plain": [
       "{u'database': {u'pdb': None},\n",
       " u'destination': {u'suffix': u'.mmcif', u'write_filepath': None},\n",
       " u'id': u'8a0bf6f5-f9e1-49ba-91e2-8ef5c67b2911',\n",
       " u'name': u'model',\n",
       " u'object': u'model',\n",
       " u'source': {u'fetch': None,\n",
       "  u'filestring': {u'string': u'CRYST1   30.200   47.800   61.300  90.00  90.00  90.00 P 21 21 21\\nSCALE1      0.033113  0.000000  0.000000        0.00000\\nSCALE2      0.000000  0.020921  0.000000        0.00000\\nSCALE3      0.000000  0.000000  0.016313        0.00000\\nATOM      1  N   LYS A   3      15.214  48.597  56.058  1.00 12.06           N\\nATOM      2  CA  LYS A   3      14.164  49.432  55.491  1.00 13.07           C\\nATOM      3  C   LYS A   3      12.869  48.669  55.651  1.00 12.04           C\\nATOM      4  O   LYS A   3      12.774  47.509  55.249  1.00 12.30           O\\nATOM      5  CB  LYS A   3      14.335  49.676  54.017  1.00 16.20           C\\nATOM      6  CG  LYS A   3      15.413  50.674  53.741  1.00 21.66           C\\nATOM      7  CD  LYS A   3      15.209  51.107  52.296  1.00 27.06           C\\nATOM      8  CE  LYS A   3      16.234  52.178  51.986  1.00 30.71           C\\nATOM      9  NZ  LYS A   3      15.769  52.985  50.874  1.00 35.99           N\\nATOM     10  N   VAL A   4      11.862  49.290  56.238  1.00 11.32           N\\nATOM     11  CA  VAL A   4      10.574  48.651  56.514  1.00 11.54           C\\nATOM     12  C   VAL A   4       9.479  49.442  55.784  1.00 11.25           C\\nATOM     13  O   VAL A   4       9.222  50.616  56.099  1.00 12.48           O\\nATOM     14  CB  VAL A   4      10.282  48.658  58.060  1.00 12.54           C\\nATOM     15  CG1 VAL A   4       8.950  47.961  58.320  1.00 11.37           C\\nATOM     16  CG2 VAL A   4      11.449  48.005  58.839  1.00 12.59           C\\nATOM     17  N   TYR A   5       8.831  48.837  54.788  1.00  9.67           N\\nATOM     18  CA  TYR A   5       7.706  49.436  54.084  1.00  9.24           C\\nATOM     19  C   TYR A   5       6.456  48.981  54.822  1.00 10.02           C\\nATOM     20  O   TYR A   5       6.310  47.784  55.139  1.00 10.62           O\\nATOM     21  CB  TYR A   5       7.599  48.942  52.633  1.00  9.83           C\\nATOM     22  CG  TYR A   5       8.692  49.472  51.736  1.00 12.79           C\\nATOM     23  CD1 TYR A   5       9.959  48.898  51.781  1.00 13.60           C\\nATOM     24  CD2 TYR A   5       8.415  50.537  50.880  1.00 12.13           C\\nATOM     25  CE1 TYR A   5      10.961  49.400  50.960  1.00 14.77           C\\nATOM     26  CE2 TYR A   5       9.426  51.032  50.065  1.00 14.21           C\\nATOM     27  CZ  TYR A   5      10.685  50.467  50.116  1.00 14.05           C\\nATOM     28  OH  TYR A   5      11.708  50.978  49.318  1.00 17.48           O\\nATOM     29  N   GLY A   6       5.533  49.874  55.110  1.00  9.41           N\\nATOM     30  CA  GLY A   6       4.317  49.477  55.789  1.00 10.26           C\\nATOM     31  C   GLY A   6       3.333  50.620  55.891  1.00  9.97           C\\nATOM     32  O   GLY A   6       3.372  51.588  55.127  1.00 10.08           O\\nATOM     33  N   TYR A   7       2.442  50.507  56.862  1.00 10.24           N\\nATOM     34  CA  TYR A   7       1.413  51.506  57.119  1.00 11.36           C\\nATOM     35  C   TYR A   7       1.670  52.119  58.461  1.00 12.55           C\\nATOM     36  O   TYR A   7       2.084  51.417  59.378  1.00 14.36           O\\nATOM     37  CB  TYR A   7       0.005  50.927  57.232  1.00 12.24           C\\nATOM     38  CG  TYR A   7      -0.521  50.237  56.001  1.00 13.20           C\\nATOM     39  CD1 TYR A   7      -0.985  51.011  54.951  1.00 15.61           C\\nATOM     40  CD2 TYR A   7      -0.569  48.854  55.936  1.00 13.25           C\\nATOM     41  CE1 TYR A   7      -1.502  50.387  53.835  1.00 16.74           C\\nATOM     42  CE2 TYR A   7      -1.086  48.222  54.817  1.00 14.24           C\\nATOM     43  CZ  TYR A   7      -1.549  49.003  53.779  1.00 16.67           C\\nATOM     44  OH  TYR A   7      -2.106  48.406  52.664  1.00 18.39           O\\nTER\\nHETATM   45  O   HOH B  96       3.250  51.131  61.824  1.00 24.03           O\\nHETATM   46  O   HOH B 161      -4.831  48.504  52.099  1.00 46.91           O\\nHETATM   47  O   HOH B 169      -7.853  49.106  58.756  1.00 81.24           O\\nHETATM   48  O   HOH B 193      14.944  55.711  51.158  1.00 81.84           O\\nEND\\n',\n",
       "   u'suffix': u'.pdb'},\n",
       "  u'read_filepath': None,\n",
       "  u'read_url': None}}"
      ]
     },
     "execution_count": 9,
     "metadata": {},
     "output_type": "execute_result"
    }
   ],
   "source": [
    "server.retrieve_data(model_api.payload[\"id\"])"
   ]
  },
  {
   "cell_type": "code",
   "execution_count": 10,
   "metadata": {},
   "outputs": [],
   "source": [
    "# add a scene\n",
    "scene_api = SceneAPI.from_api_objects(model_api)"
   ]
  },
  {
   "cell_type": "code",
   "execution_count": 11,
   "metadata": {},
   "outputs": [],
   "source": [
    "server.add_scene(scene_api.payload,set_current=True)"
   ]
  },
  {
   "cell_type": "code",
   "execution_count": null,
   "metadata": {},
   "outputs": [],
   "source": []
  }
 ],
 "metadata": {
  "kernelspec": {
   "display_name": "phenix",
   "language": "python",
   "name": "phenix"
  },
  "language_info": {
   "codemirror_mode": {
    "name": "ipython",
    "version": 2
   },
   "file_extension": ".py",
   "mimetype": "text/x-python",
   "name": "python",
   "nbconvert_exporter": "python",
   "pygments_lexer": "ipython2",
   "version": "2.7.15"
  }
 },
 "nbformat": 4,
 "nbformat_minor": 4
}
