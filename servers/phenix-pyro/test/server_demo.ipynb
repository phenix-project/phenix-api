{
 "cells": [
  {
   "cell_type": "code",
   "execution_count": 5,
   "metadata": {},
   "outputs": [],
   "source": [
    "import sys\n",
    "sys.path.append(\"../\")\n",
    "from phenix_server import PhenixServer\n",
    "from pyro_manager import PyroManager"
   ]
  },
  {
   "cell_type": "code",
   "execution_count": 6,
   "metadata": {},
   "outputs": [],
   "source": [
    "# initialize the pyro manager and one server instance\n",
    "pyro_manager = PyroManager()\n",
    "phenix_server = PhenixServer()"
   ]
  },
  {
   "cell_type": "code",
   "execution_count": 7,
   "metadata": {},
   "outputs": [
    {
     "name": "stdout",
     "output_type": "stream",
     "text": [
      "PYRO:obj_09b4297bb1074b878c2d743cbfbe0287@localhost:36695\n"
     ]
    }
   ],
   "source": [
    "# register the server to make it available remotely\n",
    "prefix = \"phenix.server.\"+phenix_server.id\n",
    "service_uri = pyro_manager.register_service(phenix_server,prefix=prefix)\n",
    "print(str(service_uri))"
   ]
  },
  {
   "cell_type": "code",
   "execution_count": 8,
   "metadata": {},
   "outputs": [],
   "source": [
    "# optionally, start chimerax and connect to server (assumes the bundle is installed)\n",
    "import subprocess\n",
    "cmds = [\"chimerax\",\"--cmd\",\"phenix connect uri \"+str(service_uri)+\" debug true\"]\n",
    "p = subprocess.Popen(cmds)"
   ]
  },
  {
   "cell_type": "code",
   "execution_count": null,
   "metadata": {},
   "outputs": [],
   "source": []
  },
  {
   "cell_type": "code",
   "execution_count": null,
   "metadata": {},
   "outputs": [],
   "source": []
  }
 ],
 "metadata": {
  "kernelspec": {
   "display_name": "phenix",
   "language": "python",
   "name": "phenix"
  },
  "language_info": {
   "codemirror_mode": {
    "name": "ipython",
    "version": 2
   },
   "file_extension": ".py",
   "mimetype": "text/x-python",
   "name": "python",
   "nbconvert_exporter": "python",
   "pygments_lexer": "ipython2",
   "version": "2.7.15"
  }
 },
 "nbformat": 4,
 "nbformat_minor": 4
}
